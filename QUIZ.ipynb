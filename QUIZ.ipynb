{
  "nbformat": 4,
  "nbformat_minor": 0,
  "metadata": {
    "colab": {
      "provenance": [],
      "authorship_tag": "ABX9TyOmebJ0eRdnkqZmRX3QsdBO",
      "include_colab_link": true
    },
    "kernelspec": {
      "name": "python3",
      "display_name": "Python 3"
    },
    "language_info": {
      "name": "python"
    }
  },
  "cells": [
    {
      "cell_type": "markdown",
      "metadata": {
        "id": "view-in-github",
        "colab_type": "text"
      },
      "source": [
        "<a href=\"https://colab.research.google.com/github/Preethika2003/simple-quiz/blob/main/QUIZ.ipynb\" target=\"_parent\"><img src=\"https://colab.research.google.com/assets/colab-badge.svg\" alt=\"Open In Colab\"/></a>"
      ]
    },
    {
      "cell_type": "code",
      "execution_count": null,
      "metadata": {
        "id": "y9Yv82LvyfRk"
      },
      "outputs": [],
      "source": []
    },
    {
      "cell_type": "code",
      "source": [
        "class quiz():\n",
        "  def __init__(self):\n",
        "    self.questions=[\n",
        "        {\n",
        "            \"question\":\"Which is the capital city of India?\",\n",
        "            \"options\":{\"A\":\"Delhi\",\"B\":\"Mumbai\",\"C\":\"Kolkata\",\"D\":\"Chennai\"},\n",
        "            \"answer\":\"A\"\n",
        "        },\n",
        "        {\n",
        "            \"question\":\"What is the largest planet in our solar system?\",\n",
        "            \"options\":{\"A\":\"Earth\",\"B\":\"Mars\",\"C\":\"Jupiter\",\"D\":\"Venus\"},\n",
        "            \"answer\":\"C\"\n",
        "        },\n",
        "        {\n",
        "            \"question\":\"What is the largest ocean in the world?\",\n",
        "            \"options\":{\"A\":\"Atlantic Ocean\",\"B\":\"Indian Ocean\",\"C\":\"Arctic Ocean\",\"D\":\"Pacific Ocean\"},\n",
        "            \"answer\":\"D\"\n",
        "        },\n",
        "        {\n",
        "            \"question\":\"What is the smallest country in the world?\",\n",
        "            \"options\":{\"A\":\"Vatican City\",\"B\":\"Monaco\",\"C\":\"San Marino\",\"D\":\"Liechtenstein\"},\n",
        "            \"answer\":\"A\"\n",
        "        },\n",
        "        {\n",
        "            \"question\":\"What is the largest country in the world by land area?\",\n",
        "            \"options\":{\"A\":\"Russia\",\"B\":\"China\",\"C\":\"India\",\"D\":\"United States\"},\n",
        "            \"answer\":\"B\"\n",
        "        }\n",
        "    ]\n",
        "    self.score=0\n",
        "    self.correct_answers = []\n",
        "  def start_quiz(self):\n",
        "    print(\"Welcome to the Quiz !\")\n",
        "    question_number=1\n",
        "    for q in self.questions:\n",
        "      print(f\"Q{question_number}: {q['question']}\")\n",
        "      for option,answer in q[\"options\"].items():\n",
        "        print(f\"{option}:{q['options'][option]}\")\n",
        "      user_answer=input(\"Enter your answer(A,B,C,D):\")\n",
        "      while user_answer not in [\"A\", \"B\", \"C\", \"D\"]:\n",
        "        print(\"Invalid input! Please enter A, B, C, or D.\")\n",
        "        user_answer = input(\"Enter your answer (A, B, C, or D): \").upper()\n",
        "      if user_answer == q[\"answer\"]:\n",
        "        self.score += 1\n",
        "        print(\"Correct!\\n\")\n",
        "      else:\n",
        "        print(\"Wrong!\\n\")\n",
        "        self.correct_answers.append((q[\"question\"], q[\"answer\"], q[\"options\"][q[\"answer\"]]))\n",
        "      question_number += 1\n",
        "    self.show_results()\n",
        "  def show_results(self):\n",
        "    print(f\"\\nQuiz Over! Your total score: {self.score}/{len(self.questions)}\")\n",
        "    print(\"\\nCorrect Answers:\")\n",
        "    for question, correct_option, correct_answer in self.correct_answers:\n",
        "      print(f\"{question}\")\n",
        "      print(f\"  Correct Answer: {correct_option}. {correct_answer}\\n\")\n",
        "while True:\n",
        "  print(\"\\n1. Start Quiz\")\n",
        "  print(\"2. Exit\")\n",
        "  choice = input(\"Enter your choice (1-2): \")\n",
        "  if choice == \"1\":\n",
        "    quiz_instance = quiz()\n",
        "    quiz_instance.start_quiz()\n",
        "  elif choice == \"2\":\n",
        "    print(\"Exiting...\")\n",
        "    break\n",
        "  else:\n",
        "    print(\"Invalid choice! Please enter 1 or 2.\")"
      ],
      "metadata": {
        "collapsed": true,
        "id": "lOZp0hBN-i7X"
      },
      "execution_count": null,
      "outputs": []
    }
  ]
}